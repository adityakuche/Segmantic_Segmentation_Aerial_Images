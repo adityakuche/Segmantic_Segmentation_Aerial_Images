{
 "cells": [
  {
   "cell_type": "code",
   "execution_count": 1,
   "id": "817e7115",
   "metadata": {},
   "outputs": [],
   "source": [
    "from flask import Flask, render_template_string\n",
    "import fiona\n",
    "import plotly.express as px\n",
    "import pyproj\n",
    "import geopandas as gpd"
   ]
  },
  {
   "cell_type": "code",
   "execution_count": 2,
   "id": "4ceed1fb",
   "metadata": {},
   "outputs": [
    {
     "name": "stdout",
     "output_type": "stream",
     "text": [
      " * Serving Flask app '__main__'\n",
      " * Debug mode: off\n"
     ]
    },
    {
     "name": "stderr",
     "output_type": "stream",
     "text": [
      "WARNING: This is a development server. Do not use it in a production deployment. Use a production WSGI server instead.\n",
      " * Running on http://127.0.0.1:3000\n",
      "Press CTRL+C to quit\n",
      "127.0.0.1 - - [01/Sep/2023 19:18:44] \"GET / HTTP/1.1\" 200 -\n",
      "127.0.0.1 - - [01/Sep/2023 19:18:44] \"GET /favicon.ico HTTP/1.1\" 404 -\n"
     ]
    }
   ],
   "source": [
    "#https://www.youtube.com/watch?v=zctCsvSSYu8\n",
    "app= Flask(__name__)\n",
    "\n",
    "@app.route(\"/\")\n",
    "def home():\n",
    "    #This is the path to the out shapefile/polygon files\n",
    "    output_path = r\"C:\\Python310\\tf\\Scripts\\Project_main\\landcover.ai.v1\\Result\\Try_1\\op.shp\"\n",
    "    \n",
    "    layer = gpd.read_file(output_path) #reading the .shapefile\n",
    "    layer['Area_Sqm']=layer['geometry'].area\n",
    "    a=layer[layer['DN_value']==58].explore() # building or\n",
    "    #render the map object\n",
    "    a.get_root().render()\n",
    "    \n",
    "    #header\n",
    "    header=a.get_root().header.render()\n",
    "    \n",
    "    #body\n",
    "    body_html= a.get_root().html.render()\n",
    "    \n",
    "    #script\n",
    "    script=a.get_root().script.render()\n",
    "    return render_template_string(\"\"\"\n",
    "    <!DOCTYPE html>\n",
    "    <html>\n",
    "        <head>\n",
    "        {{header|safe}}\n",
    "        </head>\n",
    "        <body>\n",
    "            <h1> Map Visualization </h1>\n",
    "            {{body_html|safe}}\n",
    "            <h3> End Visualization </h3>\n",
    "            <script>\n",
    "            {{script|safe}}\n",
    "            </script>\n",
    "        </body>\n",
    "    </html>\n",
    "    \"\"\",header=header,body_html=body_html,script=script)\n",
    "\n",
    "if __name__=='__main__':\n",
    "    app.run(port=3000, debug=False)"
   ]
  },
  {
   "cell_type": "code",
   "execution_count": null,
   "id": "15df66d0",
   "metadata": {},
   "outputs": [],
   "source": []
  }
 ],
 "metadata": {
  "kernelspec": {
   "display_name": "Python 3 (ipykernel)",
   "language": "python",
   "name": "python3"
  },
  "language_info": {
   "codemirror_mode": {
    "name": "ipython",
    "version": 3
   },
   "file_extension": ".py",
   "mimetype": "text/x-python",
   "name": "python",
   "nbconvert_exporter": "python",
   "pygments_lexer": "ipython3",
   "version": "3.10.4"
  }
 },
 "nbformat": 4,
 "nbformat_minor": 5
}
