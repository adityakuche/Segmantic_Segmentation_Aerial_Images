{
 "cells": [
  {
   "cell_type": "code",
   "execution_count": null,
   "id": "8b58c4e1",
   "metadata": {},
   "outputs": [],
   "source": [
    "'''\n",
    "Reclassification of the images using Rasterio lib\n",
    "Case- if you want perticular mask from the multiclass mask then you can use this method to extract perticular mask out of it.\n",
    "It can we use to the general \n",
    "'''"
   ]
  },
  {
   "cell_type": "code",
   "execution_count": null,
   "id": "0dbb8924",
   "metadata": {},
   "outputs": [],
   "source": [
    "import rasterio\n",
    "import numpy as np"
   ]
  },
  {
   "cell_type": "code",
   "execution_count": null,
   "id": "a254f1a1",
   "metadata": {},
   "outputs": [],
   "source": [
    "\n",
    "\n",
    "with rasterio.open(r\"C:\\Python310\\tf\\Scripts\\Project_main\\landcover.ai.v1\\Result\\Try_mask\\M-34-5-D-d-4-2.tif\") as src:    \n",
    "    # Read as numpy array\n",
    "    array = src.read()\n",
    "    profile = src.profile\n",
    "\n",
    "    # Reclassify\n",
    "    array[np.where(array == 0)] = 0 \n",
    "    array[np.where(array == 1)] = 1\n",
    "    array[np.where(array == 2)] = 0\n",
    "    array[np.where(array == 3)] = 0\n",
    "    array[np.where(array == 4)] = 0\n",
    "    # and so on ...  \n",
    "\n",
    "with rasterio.open('landcover.ai.v1\\Result\\Try_mask\\output_raster.tif', 'w', **profile) as dst:\n",
    "    # Write to disk\n",
    "    dst.write(array)"
   ]
  },
  {
   "cell_type": "code",
   "execution_count": null,
   "id": "e8db7a96",
   "metadata": {},
   "outputs": [],
   "source": [
    "# preparing the lable just for the Building (i.e. 1)\n",
    "root_directory = 'landcover.ai.v1/'\n",
    "    #Now do the same as above for masks\n",
    " #For this specific dataset we could have added masks to the above code as masks have extension png\n",
    "mask_dir=root_directory+\"masks/\"\n",
    "for path, subdirs, files in os.walk(mask_dir):\n",
    "    #print(path)  \n",
    "    dirname = path.split(os.path.sep)[-1]\n",
    "\n",
    "    masks = os.listdir(path) \n",
    "    #print(mask)#List of all image names in this subdirectory\n",
    "    for i, mask_name in enumerate(masks):  \n",
    "        if mask_name.endswith(\".tif\"):           \n",
    "            #mask = cv2.imread(path+\"/\"+mask_name, 0)  #Read each image as Grey (or color but remember to map each color to an integer)\n",
    "            #print(mask_name)\n",
    "            with rasterio.open(path+\"/\"+mask_name) as src:    \n",
    "                # Read as numpy array\n",
    "                array = src.read()\n",
    "                profile = src.profile\n",
    "\n",
    "                # Reclassify\n",
    "                array[np.where(array == 0)] = 0 \n",
    "                array[np.where(array == 1)] = 1\n",
    "                array[np.where(array == 2)] = 0\n",
    "                array[np.where(array == 3)] = 0\n",
    "                array[np.where(array == 4)] = 0\n",
    "                # and so on ...  \n",
    "\n",
    "            with rasterio.open(root_directory+\"/Result/Try_mask/mask_b_1/\"+mask_name, 'w', **profile) as dst:\n",
    "                # Write to disk\n",
    "                dst.write(array)"
   ]
  }
 ],
 "metadata": {
  "kernelspec": {
   "display_name": "Python 3 (ipykernel)",
   "language": "python",
   "name": "python3"
  },
  "language_info": {
   "codemirror_mode": {
    "name": "ipython",
    "version": 3
   },
   "file_extension": ".py",
   "mimetype": "text/x-python",
   "name": "python",
   "nbconvert_exporter": "python",
   "pygments_lexer": "ipython3",
   "version": "3.10.4"
  }
 },
 "nbformat": 4,
 "nbformat_minor": 5
}
